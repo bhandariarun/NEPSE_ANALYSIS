{
 "cells": [
  {
   "cell_type": "code",
   "execution_count": 18,
   "metadata": {},
   "outputs": [
    {
     "name": "stdout",
     "output_type": "stream",
     "text": [
      "Requirement already satisfied: lxml in c:\\users\\arun\\appdata\\local\\programs\\python\\python39\\lib\\site-packages (5.1.1)\n",
      "Note: you may need to restart the kernel to use updated packages.\n"
     ]
    },
    {
     "name": "stderr",
     "output_type": "stream",
     "text": [
      "WARNING: Ignoring invalid distribution -jango (c:\\users\\arun\\appdata\\local\\programs\\python\\python39\\lib\\site-packages)\n",
      "WARNING: Ignoring invalid distribution -jango (c:\\users\\arun\\appdata\\local\\programs\\python\\python39\\lib\\site-packages)\n",
      "\n",
      "[notice] A new release of pip is available: 23.3.1 -> 24.0\n",
      "[notice] To update, run: python.exe -m pip install --upgrade pip\n"
     ]
    }
   ],
   "source": [
    "%pip install lxml"
   ]
  },
  {
   "cell_type": "code",
   "execution_count": 24,
   "metadata": {},
   "outputs": [],
   "source": [
    "from bs4 import BeautifulSoup\n",
    "import requests\n",
    "import pandas as pd\n",
    "import lxml\n",
    "import csv"
   ]
  },
  {
   "cell_type": "code",
   "execution_count": 21,
   "metadata": {
    "colab": {
     "base_uri": "https://localhost:8080/"
    },
    "id": "DdrVsyzo1WX3",
    "outputId": "93e5e1ec-11e5-42e4-cc7f-69cf9c88923f"
   },
   "outputs": [
    {
     "name": "stdout",
     "output_type": "stream",
     "text": [
      "\n",
      "[{'Symbol': 'ACLBSL', 'LTP': '721.90', '% Change': '0.26', 'Open': '722.00', 'High': '703.00', 'Low': '708.10', 'Qty.': '7,137', 'PClose': '', 'Diff.': ''}, {'Symbol': 'ADBL', 'LTP': '230.00', '% Change': '-0.04', 'Open': '234.70', 'High': '228.40', 'Low': '234.70', 'Qty.': '17,792', 'PClose': '', 'Diff.': ''}, {'Symbol': 'ADBLD83', 'LTP': '1,035.00', '% Change': '0.49', 'Open': '1,035.00', 'High': '1,035.00', 'Low': '1,035.00', 'Qty.': '25', 'PClose': '', 'Diff.': ''}, {'Symbol': 'AHL', 'LTP': '455.00', '% Change': '-0.02', 'Open': '464.00', 'High': '444.10', 'Low': '464.00', 'Qty.': '7,365', 'PClose': '', 'Diff.': ''}, {'Symbol': 'AHPC', 'LTP': '177.30', '% Change': '0.57', 'Open': '179.00', 'High': '174.00', 'Low': '179.00', 'Qty.': '24,520', 'PClose': '', 'Diff.': ''}, {'Symbol': 'AKJCL', 'LTP': '216.10', '% Change': '0.51', 'Open': '220.00', 'High': '213.00', 'Low': '213.00', 'Qty.': '22,814', 'PClose': '', 'Diff.': ''}, {'Symbol': 'AKPL', 'LTP': '177.60', '% Change': '-0.5', 'Open': '179.90', 'High': '176.40', 'Low': '178.50', 'Qty.': '48,619', 'PClose': '', 'Diff.': ''}, {'Symbol': 'ALBSL', 'LTP': '712.20', '% Change': '-1.77', 'Open': '729.00', 'High': '710.00', 'Low': '711.00', 'Qty.': '6,239', 'PClose': '', 'Diff.': ''}, {'Symbol': 'ALICL', 'LTP': '562.00', '% Change': '0.38', 'Open': '562.00', 'High': '550.70', 'Low': '550.70', 'Qty.': '10,859', 'PClose': '', 'Diff.': ''}, {'Symbol': 'ANLB', 'LTP': '1,982.00', '% Change': '0.1', 'Open': '2,019.00', 'High': '1,973.60', 'Low': '1,979.00', 'Qty.': '1,465', 'PClose': '', 'Diff.': ''}, {'Symbol': 'API', 'LTP': '178.50', '% Change': '-0.56', 'Open': '183.00', 'High': '177.90', 'Low': '183.00', 'Qty.': '82,530', 'PClose': '', 'Diff.': ''}, {'Symbol': 'AVYAN', 'LTP': '649.90', '% Change': '1.2', 'Open': '665.00', 'High': '633.00', 'Low': '633.00', 'Qty.': '7,507', 'PClose': '', 'Diff.': ''}, {'Symbol': 'BARUN', 'LTP': '244.00', '% Change': '2.56', 'Open': '245.00', 'High': '237.20', 'Low': '241.00', 'Qty.': '21,517', 'PClose': '', 'Diff.': ''}, {'Symbol': 'BBC', 'LTP': '3,830.00', '% Change': '-0.26', 'Open': '3,830.00', 'High': '3,772.00', 'Low': '3,772.50', 'Qty.': '56', 'PClose': '', 'Diff.': ''}, {'Symbol': 'BEDC', 'LTP': '366.00', '% Change': '3.1', 'Open': '376.30', 'High': '350.10', 'Low': '350.10', 'Qty.': '29,424', 'PClose': '', 'Diff.': ''}, {'Symbol': 'BFC', 'LTP': '341.90', '% Change': '-0.03', 'Open': '348.00', 'High': '336.00', 'Low': '336.00', 'Qty.': '10,992', 'PClose': '', 'Diff.': ''}, {'Symbol': 'BGWT', 'LTP': '615.00', '% Change': '-0.49', 'Open': '616.70', 'High': '603.00', 'Low': '607.00', 'Qty.': '6,507', 'PClose': '', 'Diff.': ''}, {'Symbol': 'BHDC', 'LTP': '469.00', '% Change': '0.86', 'Open': '472.20', 'High': '451.50', 'Low': '460.00', 'Qty.': '1,100', 'PClose': '', 'Diff.': ''}, {'Symbol': 'BHL', 'LTP': '364.00', '% Change': '-1.36', 'Open': '373.00', 'High': '361.40', 'Low': '362.00', 'Qty.': '21,472', 'PClose': '', 'Diff.': ''}, {'Symbol': 'BHPL', 'LTP': '479.20', '% Change': '-0.79', 'Open': '485.50', 'High': '475.10', 'Low': '475.10', 'Qty.': '1,793', 'PClose': '', 'Diff.': ''}, {'Symbol': 'BNHC', 'LTP': '490.00', '% Change': '2.06', 'Open': '493.60', 'High': '473.00', 'Low': '473.00', 'Qty.': '24,760', 'PClose': '', 'Diff.': ''}, {'Symbol': 'BNL', 'LTP': '18,300.00', '% Change': '-0.33', 'Open': '18,727.20', 'High': '18,300.00', 'Low': '18,500.00', 'Qty.': '89', 'PClose': '', 'Diff.': ''}, {'Symbol': 'BNT', 'LTP': '13,100.00', '% Change': '-0.65', 'Open': '13,496.00', 'High': '13,100.00', 'Low': '13,330.00', 'Qty.': '452', 'PClose': '', 'Diff.': ''}, {'Symbol': 'BPCL', 'LTP': '305.00', '% Change': '0.33', 'Open': '306.50', 'High': '301.10', 'Low': '301.10', 'Qty.': '4,274', 'PClose': '', 'Diff.': ''}, {'Symbol': 'C30MF', 'LTP': '9.20', '% Change': '-1.08', 'Open': '9.20', 'High': '9.12', 'Low': '9.12', 'Qty.': '5,300', 'PClose': '', 'Diff.': ''}, {'Symbol': 'CBBL', 'LTP': '835.00', '% Change': '-0.48', 'Open': '847.00', 'High': '830.50', 'Low': '845.00', 'Qty.': '8,876', 'PClose': '', 'Diff.': ''}, {'Symbol': 'CBLD88', 'LTP': '1,015.00', '% Change': '0.69', 'Open': '1,015.00', 'High': '1,015.00', 'Low': '1,015.00', 'Qty.': '25', 'PClose': '', 'Diff.': ''}, {'Symbol': 'CFCL', 'LTP': '347.00', '% Change': '0.58', 'Open': '351.00', 'High': '339.00', 'Low': '344.00', 'Qty.': '11,858', 'PClose': '', 'Diff.': ''}, {'Symbol': 'CGH', 'LTP': '818.20', '% Change': '-0.23', 'Open': '827.00', 'High': '814.10', 'Low': '825.00', 'Qty.': '9,133', 'PClose': '', 'Diff.': ''}, {'Symbol': 'CHCL', 'LTP': '462.00', '% Change': '0.74', 'Open': '463.00', 'High': '456.50', 'Low': '457.30', 'Qty.': '24,217', 'PClose': '', 'Diff.': ''}, {'Symbol': 'CHDC', 'LTP': '938.00', '% Change': '1.96', 'Open': '938.00', 'High': '900.10', 'Low': '911.60', 'Qty.': '10,713', 'PClose': '', 'Diff.': ''}, {'Symbol': 'CHL', 'LTP': '290.00', '% Change': '-1.02', 'Open': '296.80', 'High': '288.10', 'Low': '296.80', 'Qty.': '4,501', 'PClose': '', 'Diff.': ''}, {'Symbol': 'CIT', 'LTP': '2,129.00', '% Change': '1.14', 'Open': '2,145.00', 'High': '2,105.00', 'Low': '2,105.00', 'Qty.': '11,608', 'PClose': '', 'Diff.': ''}, {'Symbol': 'CITY', 'LTP': '593.40', '% Change': '-0.6', 'Open': '605.00', 'High': '592.00', 'Low': '592.00', 'Qty.': '5,390', 'PClose': '', 'Diff.': ''}, {'Symbol': 'CIZBD86', 'LTP': '1,015.00', '% Change': '0.69', 'Open': '1,015.00', 'High': '1,015.00', 'Low': '1,015.00', 'Qty.': '25', 'PClose': '', 'Diff.': ''}, {'Symbol': 'CKHL', 'LTP': '581.00', '% Change': '-0.85', 'Open': '592.00', 'High': '575.20', 'Low': '575.30', 'Qty.': '10,280', 'PClose': '', 'Diff.': ''}, {'Symbol': 'CLI', 'LTP': '453.90', '% Change': '2', 'Open': '456.00', 'High': '442.00', 'Low': '442.00', 'Qty.': '23,759', 'PClose': '', 'Diff.': ''}, {'Symbol': 'CMF1', 'LTP': '9.38', '% Change': '1.96', 'Open': '9.38', 'High': '9.20', 'Low': '9.20', 'Qty.': '80,558', 'PClose': '', 'Diff.': ''}, {'Symbol': 'CMF2', 'LTP': '7.90', '% Change': '0', 'Open': '7.90', 'High': '7.76', 'Low': '7.76', 'Qty.': '2,425', 'PClose': '', 'Diff.': ''}, {'Symbol': 'CORBL', 'LTP': '435.10', '% Change': '-1.78', 'Open': '448.40', 'High': '435.00', 'Low': '435.00', 'Qty.': '5,025', 'PClose': '', 'Diff.': ''}, {'Symbol': 'CYCL', 'LTP': '1,389.90', '% Change': '-0.51', 'Open': '1,396.30', 'High': '1,335.00', 'Low': '1,369.10', 'Qty.': '5,019', 'PClose': '', 'Diff.': ''}, {'Symbol': 'CZBIL', 'LTP': '160.50', '% Change': '0.63', 'Open': '161.00', 'High': '159.00', 'Low': '159.50', 'Qty.': '24,043', 'PClose': '', 'Diff.': ''}, {'Symbol': 'DDBL', 'LTP': '709.00', '% Change': '-2.23', 'Open': '730.00', 'High': '709.00', 'Low': '726.00', 'Qty.': '15,296', 'PClose': '', 'Diff.': ''}, {'Symbol': 'DHPL', 'LTP': '194.00', '% Change': '-0.82', 'Open': '203.80', 'High': '193.00', 'Low': '193.00', 'Qty.': '8,118', 'PClose': '', 'Diff.': ''}, {'Symbol': 'DLBS', 'LTP': '1,308.60', '% Change': '-10', 'Open': '1,483.00', 'High': '1,308.60', 'Low': '1,483.00', 'Qty.': '8,222', 'PClose': '', 'Diff.': ''}, {'Symbol': 'DOLTI', 'LTP': '437.90', '% Change': '1.84', 'Open': '448.00', 'High': '422.00', 'Low': '426.00', 'Qty.': '39,644', 'PClose': '', 'Diff.': ''}, {'Symbol': 'DORDI', 'LTP': '455.00', '% Change': '-3.19', 'Open': '479.00', 'High': '454.00', 'Low': '479.00', 'Qty.': '33,263', 'PClose': '', 'Diff.': ''}, {'Symbol': 'EBL', 'LTP': '503.70', '% Change': '-0.26', 'Open': '508.80', 'High': '503.00', 'Low': '504.50', 'Qty.': '23,558', 'PClose': '', 'Diff.': ''}, {'Symbol': 'EBLD85', 'LTP': '1,015.00', '% Change': '-0.12', 'Open': '1,015.00', 'High': '1,015.00', 'Low': '1,015.00', 'Qty.': '25', 'PClose': '', 'Diff.': ''}, {'Symbol': 'EDBL', 'LTP': '357.00', '% Change': '0', 'Open': '360.90', 'High': '350.50', 'Low': '350.50', 'Qty.': '4,994', 'PClose': '', 'Diff.': ''}, {'Symbol': 'EHPL', 'LTP': '469.40', '% Change': '-0.97', 'Open': '480.00', 'High': '460.70', 'Low': '474.00', 'Qty.': '8,694', 'PClose': '', 'Diff.': ''}, {'Symbol': 'ENL', 'LTP': '765.00', '% Change': '0.13', 'Open': '768.90', 'High': '753.90', 'Low': '753.90', 'Qty.': '824', 'PClose': '', 'Diff.': ''}, {'Symbol': 'FMDBL', 'LTP': '610.00', '% Change': '-0.47', 'Open': '616.00', 'High': '606.00', 'Low': '610.00', 'Qty.': '10,109', 'PClose': '', 'Diff.': ''}, {'Symbol': 'FOWAD', 'LTP': '1,090.00', '% Change': '-0.46', 'Open': '1,097.00', 'High': '1,081.00', 'Low': '1,095.00', 'Qty.': '2,857', 'PClose': '', 'Diff.': ''}, {'Symbol': 'GBBD85', 'LTP': '925.20', '% Change': '0.57', 'Open': '925.20', 'High': '925.00', 'Low': '925.00', 'Qty.': '75', 'PClose': '', 'Diff.': ''}, {'Symbol': 'GBBL', 'LTP': '369.90', '% Change': '-0.03', 'Open': '372.00', 'High': '365.50', 'Low': '366.00', 'Qty.': '11,179', 'PClose': '', 'Diff.': ''}, {'Symbol': 'GBD80/81', 'LTP': '1,015.00', '% Change': '0.5', 'Open': '1,015.00', 'High': '1,015.00', 'Low': '1,015.00', 'Qty.': '25', 'PClose': '', 'Diff.': ''}, {'Symbol': 'GBILD86/87', 'LTP': '902.10', '% Change': '-0.1', 'Open': '902.10', 'High': '902.10', 'Low': '902.10', 'Qty.': '25', 'PClose': '', 'Diff.': ''}, {'Symbol': 'GBIME', 'LTP': '181.90', '% Change': '-0.55', 'Open': '186.50', 'High': '181.00', 'Low': '186.50', 'Qty.': '45,881', 'PClose': '', 'Diff.': ''}, {'Symbol': 'GBLBS', 'LTP': '619.00', '% Change': '1.44', 'Open': '622.20', 'High': '607.00', 'Low': '615.00', 'Qty.': '7,786', 'PClose': '', 'Diff.': ''}, {'Symbol': 'GCIL', 'LTP': '520.00', '% Change': '1.36', 'Open': '529.90', 'High': '502.80', 'Low': '502.80', 'Qty.': '87,342', 'PClose': '', 'Diff.': ''}, {'Symbol': 'GFCL', 'LTP': '460.00', '% Change': '0', 'Open': '462.00', 'High': '453.20', 'Low': '461.00', 'Qty.': '8,279', 'PClose': '', 'Diff.': ''}, {'Symbol': 'GHL', 'LTP': '153.00', '% Change': '0', 'Open': '155.00', 'High': '152.10', 'Low': '154.90', 'Qty.': '84,674', 'PClose': '', 'Diff.': ''}, {'Symbol': 'GIBF1', 'LTP': '8.25', '% Change': '0.24', 'Open': '8.25', 'High': '8.08', 'Low': '8.08', 'Qty.': '2,400', 'PClose': '', 'Diff.': ''}, {'Symbol': 'GILB', 'LTP': '932.50', '% Change': '0.91', 'Open': '944.00', 'High': '916.00', 'Low': '916.00', 'Qty.': '5,921', 'PClose': '', 'Diff.': ''}, {'Symbol': 'GLBSL', 'LTP': '1,317.00', '% Change': '-1.86', 'Open': '1,359.90', 'High': '1,315.10', 'Low': '1,341.90', 'Qty.': '1,805', 'PClose': '', 'Diff.': ''}, {'Symbol': 'GLH', 'LTP': '218.00', '% Change': '0', 'Open': '220.00', 'High': '214.60', 'Low': '214.60', 'Qty.': '9,911', 'PClose': '', 'Diff.': ''}, {'Symbol': 'GMFBS', 'LTP': '1,020.00', '% Change': '0.18', 'Open': '1,038.00', 'High': '990.00', 'Low': '1,038.00', 'Qty.': '3,677', 'PClose': '', 'Diff.': ''}, {'Symbol': 'GMFIL', 'LTP': '352.00', '% Change': '-0.56', 'Open': '363.90', 'High': '350.00', 'Low': '352.00', 'Qty.': '9,483', 'PClose': '', 'Diff.': ''}, {'Symbol': 'GRDBL', 'LTP': '365.10', '% Change': '0.83', 'Open': '372.00', 'High': '362.00', 'Low': '368.00', 'Qty.': '6,206', 'PClose': '', 'Diff.': ''}, {'Symbol': 'GUFL', 'LTP': '880.00', '% Change': '2.56', 'Open': '890.00', 'High': '833.00', 'Low': '840.90', 'Qty.': '186,907', 'PClose': '', 'Diff.': ''}, {'Symbol': 'GVL', 'LTP': '423.90', '% Change': '-0.26', 'Open': '433.50', 'High': '418.10', 'Low': '433.00', 'Qty.': '9,288', 'PClose': '', 'Diff.': ''}, {'Symbol': 'GWFD83', 'LTP': '1,175.00', '% Change': '2.44', 'Open': '1,175.00', 'High': '1,160.00', 'Low': '1,160.00', 'Qty.': '250', 'PClose': '', 'Diff.': ''}, {'Symbol': 'H8020', 'LTP': '9.18', '% Change': '-6.8', 'Open': '9.66', 'High': '8.87', 'Low': '9.66', 'Qty.': '21,600', 'PClose': '', 'Diff.': ''}, {'Symbol': 'HATHY', 'LTP': '884.00', '% Change': '0.48', 'Open': '894.90', 'High': '866.10', 'Low': '871.00', 'Qty.': '48,669', 'PClose': '', 'Diff.': ''}, {'Symbol': 'HBL', 'LTP': '189.50', '% Change': '-0.79', 'Open': '191.00', 'High': '188.20', 'Low': '189.00', 'Qty.': '16,801', 'PClose': '', 'Diff.': ''}, {'Symbol': 'HBLD83', 'LTP': '999.90', '% Change': '-0.51', 'Open': '1,025.00', 'High': '999.00', 'Low': '1,025.00', 'Qty.': '10,200', 'PClose': '', 'Diff.': ''}, {'Symbol': 'HBLD86', 'LTP': '1,020.00', '% Change': '2', 'Open': '1,020.00', 'High': '1,008.00', 'Low': '1,008.00', 'Qty.': '175', 'PClose': '', 'Diff.': ''}, {'Symbol': 'HDHPC', 'LTP': '136.20', '% Change': '-0.58', 'Open': '138.00', 'High': '134.50', 'Low': '138.00', 'Qty.': '187,474', 'PClose': '', 'Diff.': ''}, {'Symbol': 'HDL', 'LTP': '1,505.00', '% Change': '-0.67', 'Open': '1,525.00', 'High': '1,500.00', 'Low': '1,525.00', 'Qty.': '17,724', 'PClose': '', 'Diff.': ''}, {'Symbol': 'HEI', 'LTP': '579.30', '% Change': '-0.46', 'Open': '580.00', 'High': '575.00', 'Low': '577.00', 'Qty.': '11,282', 'PClose': '', 'Diff.': ''}, {'Symbol': 'HEIP', 'LTP': '347.90', '% Change': '-2', 'Open': '347.90', 'High': '347.90', 'Low': '347.90', 'Qty.': '11', 'PClose': '', 'Diff.': ''}, {'Symbol': 'HHL', 'LTP': '383.80', '% Change': '8.73', 'Open': '388.30', 'High': '342.10', 'Low': '359.00', 'Qty.': '98,880', 'PClose': '', 'Diff.': ''}, {'Symbol': 'HIDCL', 'LTP': '168.90', '% Change': '-0.3', 'Open': '170.00', 'High': '168.70', 'Low': '170.00', 'Qty.': '33,579', 'PClose': '', 'Diff.': ''}, {'Symbol': 'HIDCLP', 'LTP': '101.50', '% Change': '-0.78', 'Open': '102.70', 'High': '101.00', 'Low': '101.50', 'Qty.': '45,643', 'PClose': '', 'Diff.': ''}, {'Symbol': 'HLBSL', 'LTP': '688.30', '% Change': '-0.25', 'Open': '700.00', 'High': '686.10', 'Low': '700.00', 'Qty.': '5,345', 'PClose': '', 'Diff.': ''}, {'Symbol': 'HLI', 'LTP': '400.50', '% Change': '0.12', 'Open': '403.90', 'High': '398.20', 'Low': '403.90', 'Qty.': '31,731', 'PClose': '', 'Diff.': ''}, {'Symbol': 'HPPL', 'LTP': '266.70', '% Change': '-1.95', 'Open': '268.10', 'High': '261.70', 'Low': '268.10', 'Qty.': '18,803', 'PClose': '', 'Diff.': ''}, {'Symbol': 'HRL', 'LTP': '604.10', '% Change': '0.35', 'Open': '610.00', 'High': '601.00', 'Low': '602.00', 'Qty.': '65,655', 'PClose': '', 'Diff.': ''}, {'Symbol': 'HURJA', 'LTP': '315.70', '% Change': '10', 'Open': '315.70', 'High': '282.50', 'Low': '282.50', 'Qty.': '34,823', 'PClose': '', 'Diff.': ''}, {'Symbol': 'ICFC', 'LTP': '505.40', '% Change': '-0.32', 'Open': '516.90', 'High': '500.10', 'Low': '516.90', 'Qty.': '20,726', 'PClose': '', 'Diff.': ''}, {'Symbol': 'ICFCD83', 'LTP': '1,180.00', '% Change': '0', 'Open': '1,180.00', 'High': '1,180.00', 'Low': '1,180.00', 'Qty.': '200', 'PClose': '', 'Diff.': ''}, {'Symbol': 'IGI', 'LTP': '533.10', '% Change': '-0.69', 'Open': '545.00', 'High': '531.00', 'Low': '536.00', 'Qty.': '36,590', 'PClose': '', 'Diff.': ''}, {'Symbol': 'IHL', 'LTP': '373.00', '% Change': '0.81', 'Open': '377.00', 'High': '362.50', 'Low': '375.00', 'Qty.': '34,667', 'PClose': '', 'Diff.': ''}, {'Symbol': 'ILBS', 'LTP': '881.00', '% Change': '-2.97', 'Open': '915.00', 'High': '880.10', 'Low': '908.00', 'Qty.': '7,875', 'PClose': '', 'Diff.': ''}, {'Symbol': 'ILBSP', 'LTP': '361.00', '% Change': '0', 'Open': '361.00', 'High': '361.00', 'Low': '361.00', 'Qty.': '13,258', 'PClose': '', 'Diff.': ''}, {'Symbol': 'ILI', 'LTP': '529.30', '% Change': '-0.69', 'Open': '535.00', 'High': '528.00', 'Low': '535.00', 'Qty.': '19,063', 'PClose': '', 'Diff.': ''}, {'Symbol': 'JALPA', 'LTP': '1,200.00', '% Change': '-0.41', 'Open': '1,230.00', 'High': '1,191.50', 'Low': '1,191.50', 'Qty.': '1,687', 'PClose': '', 'Diff.': ''}, {'Symbol': 'JBBD87', 'LTP': '930.00', '% Change': '0.53', 'Open': '930.00', 'High': '930.00', 'Low': '930.00', 'Qty.': '75', 'PClose': '', 'Diff.': ''}, {'Symbol': 'JBBL', 'LTP': '292.00', '% Change': '-0.31', 'Open': '296.30', 'High': '288.60', 'Low': '292.90', 'Qty.': '34,604', 'PClose': '', 'Diff.': ''}, {'Symbol': 'JBLB', 'LTP': '1,316.20', '% Change': '-0.59', 'Open': '1,350.00', 'High': '1,315.20', 'Low': '1,350.00', 'Qty.': '4,103', 'PClose': '', 'Diff.': ''}, {'Symbol': 'JFL', 'LTP': '386.90', '% Change': '0.49', 'Open': '389.50', 'High': '378.10', 'Low': '379.00', 'Qty.': '7,920', 'PClose': '', 'Diff.': ''}, {'Symbol': 'JOSHI', 'LTP': '347.00', '% Change': '-3.34', 'Open': '359.80', 'High': '345.00', 'Low': '356.70', 'Qty.': '132,372', 'PClose': '', 'Diff.': ''}, {'Symbol': 'JSLBB', 'LTP': '1,006.60', '% Change': '-1.8', 'Open': '1,027.00', 'High': '995.00', 'Low': '1,007.00', 'Qty.': '1,437', 'PClose': '', 'Diff.': ''}, {'Symbol': 'KBL', 'LTP': '138.90', '% Change': '-0.14', 'Open': '141.80', 'High': '138.00', 'Low': '141.80', 'Qty.': '138,953', 'PClose': '', 'Diff.': ''}, {'Symbol': 'KBLD89', 'LTP': '1,058.40', '% Change': '-1.18', 'Open': '1,080.00', 'High': '1,059.00', 'Low': '1,080.00', 'Qty.': '65', 'PClose': '', 'Diff.': ''}, {'Symbol': 'KBSH', 'LTP': '1,000.00', '% Change': '-1.96', 'Open': '1,040.00', 'High': '999.60', 'Low': '1,020.00', 'Qty.': '1,497', 'PClose': '', 'Diff.': ''}, {'Symbol': 'KDBY', 'LTP': '8.90', '% Change': '-0.11', 'Open': '8.90', 'High': '8.43', 'Low': '8.74', 'Qty.': '4,700', 'PClose': '', 'Diff.': ''}, {'Symbol': 'KDL', 'LTP': '804.00', '% Change': '0.5', 'Open': '805.00', 'High': '785.00', 'Low': '785.00', 'Qty.': '5,685', 'PClose': '', 'Diff.': ''}, {'Symbol': 'KEF', 'LTP': '8.05', '% Change': '0.25', 'Open': '8.17', 'High': '7.87', 'Low': '7.87', 'Qty.': '8,150', 'PClose': '', 'Diff.': ''}, {'Symbol': 'KKHC', 'LTP': '240.00', '% Change': '0', 'Open': '243.40', 'High': '235.20', 'Low': '240.00', 'Qty.': '2,493', 'PClose': '', 'Diff.': ''}, {'Symbol': 'KLBSL', 'LTP': '884.00', '% Change': '-1.77', 'Open': '890.00', 'High': '858.00', 'Low': '890.00', 'Qty.': '1,007', 'PClose': '', 'Diff.': ''}, {'Symbol': 'KMCDB', 'LTP': '750.00', '% Change': '-0.49', 'Open': '768.70', 'High': '728.00', 'Low': '740.00', 'Qty.': '9,118', 'PClose': '', 'Diff.': ''}, {'Symbol': 'KPCL', 'LTP': '420.50', '% Change': '-1.06', 'Open': '433.00', 'High': '408.50', 'Low': '416.50', 'Qty.': '49,995', 'PClose': '', 'Diff.': ''}, {'Symbol': 'KRBL', 'LTP': '413.00', '% Change': '1.28', 'Open': '413.00', 'High': '400.00', 'Low': '401.10', 'Qty.': '59,764', 'PClose': '', 'Diff.': ''}, {'Symbol': 'KSBBL', 'LTP': '359.00', '% Change': '0', 'Open': '365.00', 'High': '355.00', 'Low': '364.50', 'Qty.': '31,337', 'PClose': '', 'Diff.': ''}, {'Symbol': 'KSBBLD87', 'LTP': '935.00', '% Change': '0.96', 'Open': '935.00', 'High': '935.00', 'Low': '935.00', 'Qty.': '200', 'PClose': '', 'Diff.': ''}, {'Symbol': 'LBBL', 'LTP': '377.00', '% Change': '0.8', 'Open': '380.00', 'High': '372.40', 'Low': '380.00', 'Qty.': '13,316', 'PClose': '', 'Diff.': ''}, {'Symbol': 'LEC', 'LTP': '184.00', '% Change': '-0.54', 'Open': '186.00', 'High': '183.00', 'Low': '186.00', 'Qty.': '17,089', 'PClose': '', 'Diff.': ''}, {'Symbol': 'LEMF', 'LTP': '9.50', '% Change': '0', 'Open': '9.65', 'High': '9.47', 'Low': '9.47', 'Qty.': '30,418', 'PClose': '', 'Diff.': ''}, {'Symbol': 'LICN', 'LTP': '1,356.00', '% Change': '1.42', 'Open': '1,360.00', 'High': '1,323.50', 'Low': '1,324.30', 'Qty.': '1,309', 'PClose': '', 'Diff.': ''}, {'Symbol': 'LLBS', 'LTP': '867.70', '% Change': '1.77', 'Open': '869.00', 'High': '836.00', 'Low': '869.00', 'Qty.': '877', 'PClose': '', 'Diff.': ''}, {'Symbol': 'LSL', 'LTP': '160.00', '% Change': '1.27', 'Open': '168.60', 'High': '157.00', 'Low': '158.00', 'Qty.': '34,077', 'PClose': '', 'Diff.': ''}, {'Symbol': 'LUK', 'LTP': '8.11', '% Change': '0.25', 'Open': '8.11', 'High': '8.10', 'Low': '8.10', 'Qty.': '1,200', 'PClose': '', 'Diff.': ''}, {'Symbol': 'LVF2', 'LTP': '7.90', '% Change': '1.28', 'Open': '7.95', 'High': '7.81', 'Low': '7.95', 'Qty.': '700', 'PClose': '', 'Diff.': ''}, {'Symbol': 'MAKAR', 'LTP': '396.50', '% Change': '0.63', 'Open': '405.00', 'High': '386.20', 'Low': '386.20', 'Qty.': '21,202', 'PClose': '', 'Diff.': ''}, {'Symbol': 'MANDU', 'LTP': '685.00', '% Change': '-0.29', 'Open': '692.80', 'High': '675.00', 'Low': '675.00', 'Qty.': '2,880', 'PClose': '', 'Diff.': ''}, {'Symbol': 'MBJC', 'LTP': '316.00', '% Change': '-0.32', 'Open': '318.00', 'High': '310.80', 'Low': '310.80', 'Qty.': '21,074', 'PClose': '', 'Diff.': ''}, {'Symbol': 'MBL', 'LTP': '177.70', '% Change': '-0.11', 'Open': '177.90', 'High': '175.50', 'Low': '175.60', 'Qty.': '16,199', 'PClose': '', 'Diff.': ''}, {'Symbol': 'MBLD87', 'LTP': '895.00', '% Change': '-0.78', 'Open': '895.00', 'High': '895.00', 'Low': '895.00', 'Qty.': '25', 'PClose': '', 'Diff.': ''}, {'Symbol': 'MCHL', 'LTP': '355.00', '% Change': '5.03', 'Open': '364.00', 'High': '335.00', 'Low': '335.00', 'Qty.': '25,478', 'PClose': '', 'Diff.': ''}, {'Symbol': 'MDB', 'LTP': '425.10', '% Change': '0.07', 'Open': '430.00', 'High': '423.00', 'Low': '424.00', 'Qty.': '15,766', 'PClose': '', 'Diff.': ''}, {'Symbol': 'MEHL', 'LTP': '302.00', '% Change': '2.37', 'Open': '307.90', 'High': '290.00', 'Low': '292.00', 'Qty.': '28,333', 'PClose': '', 'Diff.': ''}, {'Symbol': 'MEL', 'LTP': '217.10', '% Change': '1.35', 'Open': '226.00', 'High': '211.40', 'Low': '214.50', 'Qty.': '41,098', 'PClose': '', 'Diff.': ''}, {'Symbol': 'MEN', 'LTP': '519.90', '% Change': '-0.59', 'Open': '525.00', 'High': '511.60', 'Low': '520.40', 'Qty.': '46,636', 'PClose': '', 'Diff.': ''}, {'Symbol': 'MERO', 'LTP': '616.00', '% Change': '-0.13', 'Open': '620.00', 'High': '605.10', 'Low': '605.10', 'Qty.': '7,870', 'PClose': '', 'Diff.': ''}, {'Symbol': 'MFIL', 'LTP': '507.50', '% Change': '-0.29', 'Open': '513.00', 'High': '501.30', 'Low': '511.00', 'Qty.': '31,645', 'PClose': '', 'Diff.': ''}, {'Symbol': 'MHCL', 'LTP': '434.00', '% Change': '0.02', 'Open': '442.00', 'High': '428.00', 'Low': '442.00', 'Qty.': '29,571', 'PClose': '', 'Diff.': ''}, {'Symbol': 'MHL', 'LTP': '410.90', '% Change': '2.21', 'Open': '415.00', 'High': '395.10', 'Low': '395.10', 'Qty.': '9,823', 'PClose': '', 'Diff.': ''}, {'Symbol': 'MHNL', 'LTP': '238.10', '% Change': '-0.54', 'Open': '241.00', 'High': '234.20', 'Low': '234.80', 'Qty.': '8,265', 'PClose': '', 'Diff.': ''}, {'Symbol': 'MKCL', 'LTP': '944.00', '% Change': '0.54', 'Open': '947.00', 'High': '921.80', 'Low': '921.80', 'Qty.': '11,888', 'PClose': '', 'Diff.': ''}, {'Symbol': 'MKHC', 'LTP': '304.00', '% Change': '4.11', 'Open': '310.00', 'High': '287.50', 'Low': '290.00', 'Qty.': '37,065', 'PClose': '', 'Diff.': ''}, {'Symbol': 'MKHL', 'LTP': '377.00', '% Change': '0.27', 'Open': '383.70', 'High': '370.00', 'Low': '376.00', 'Qty.': '15,768', 'PClose': '', 'Diff.': ''}, {'Symbol': 'MKJC', 'LTP': '472.00', '% Change': '-3.28', 'Open': '481.00', 'High': '471.00', 'Low': '479.00', 'Qty.': '3,250', 'PClose': '', 'Diff.': ''}, {'Symbol': 'MKLB', 'LTP': '819.00', '% Change': '-2.26', 'Open': '850.00', 'High': '807.00', 'Low': '822.00', 'Qty.': '845', 'PClose': '', 'Diff.': ''}, {'Symbol': 'MLBBL', 'LTP': '905.00', '% Change': '0.11', 'Open': '905.00', 'High': '891.00', 'Low': '891.00', 'Qty.': '2,563', 'PClose': '', 'Diff.': ''}, {'Symbol': 'MLBL', 'LTP': '324.80', '% Change': '0.93', 'Open': '327.40', 'High': '317.00', 'Low': '317.00', 'Qty.': '12,989', 'PClose': '', 'Diff.': ''}, {'Symbol': 'MLBS', 'LTP': '893.00', '% Change': '2.73', 'Open': '903.00', 'High': '852.00', 'Low': '865.00', 'Qty.': '1,062', 'PClose': '', 'Diff.': ''}, {'Symbol': 'MLBSL', 'LTP': '1,678.00', '% Change': '0.48', 'Open': '1,707.00', 'High': '1,617.00', 'Low': '1,703.00', 'Qty.': '2,082', 'PClose': '', 'Diff.': ''}, {'Symbol': 'MMF1', 'LTP': '7.40', '% Change': '3.5', 'Open': '7.40', 'High': '7.10', 'Low': '7.10', 'Qty.': '13,450', 'PClose': '', 'Diff.': ''}, {'Symbol': 'MMKJL', 'LTP': '420.00', '% Change': '0.79', 'Open': '428.30', 'High': '409.50', 'Low': '409.50', 'Qty.': '14,045', 'PClose': '', 'Diff.': ''}, {'Symbol': 'MNBBL', 'LTP': '345.30', '% Change': '-0.78', 'Open': '350.00', 'High': '344.00', 'Low': '350.00', 'Qty.': '21,038', 'PClose': '', 'Diff.': ''}, {'Symbol': 'MPFL', 'LTP': '365.00', '% Change': '0.83', 'Open': '370.20', 'High': '357.00', 'Low': '359.30', 'Qty.': '22,764', 'PClose': '', 'Diff.': ''}, {'Symbol': 'MSHL', 'LTP': '638.00', '% Change': '1.75', 'Open': '645.00', 'High': '615.20', 'Low': '615.20', 'Qty.': '1,786', 'PClose': '', 'Diff.': ''}, {'Symbol': 'MSLB', 'LTP': '1,005.10', '% Change': '-1.75', 'Open': '1,012.80', 'High': '990.10', 'Low': '1,003.10', 'Qty.': '849', 'PClose': '', 'Diff.': ''}, {'Symbol': 'NABBC', 'LTP': '419.40', '% Change': '0.05', 'Open': '422.00', 'High': '409.70', 'Low': '422.00', 'Qty.': '6,123', 'PClose': '', 'Diff.': ''}, {'Symbol': 'NABIL', 'LTP': '442.50', '% Change': '0.45', 'Open': '444.00', 'High': '440.00', 'Low': '442.00', 'Qty.': '32,919', 'PClose': '', 'Diff.': ''}, {'Symbol': 'NADEP', 'LTP': '663.00', '% Change': '1.22', 'Open': '663.00', 'High': '641.90', 'Low': '654.90', 'Qty.': '8,936', 'PClose': '', 'Diff.': ''}, {'Symbol': 'NBF2', 'LTP': '8.07', '% Change': '1.38', 'Open': '8.21', 'High': '8.05', 'Low': '8.05', 'Qty.': '20,000', 'PClose': '', 'Diff.': ''}, {'Symbol': 'NBF3', 'LTP': '7.65', '% Change': '0.66', 'Open': '7.65', 'High': '7.45', 'Low': '7.60', 'Qty.': '77,455', 'PClose': '', 'Diff.': ''}, {'Symbol': 'NBL', 'LTP': '219.00', '% Change': '-0.9', 'Open': '225.40', 'High': '218.20', 'Low': '225.40', 'Qty.': '21,123', 'PClose': '', 'Diff.': ''}, {'Symbol': 'NBLD82', 'LTP': '1,001.00', '% Change': '-0.83', 'Open': '1,009.40', 'High': '1,009.40', 'Low': '1,009.40', 'Qty.': '2', 'PClose': '', 'Diff.': ''}, {'Symbol': 'NBLD85', 'LTP': '900.10', '% Change': '-0.21', 'Open': '900.10', 'High': '900.10', 'Low': '900.10', 'Qty.': '25', 'PClose': '', 'Diff.': ''}, {'Symbol': 'NBLD87', 'LTP': '903.00', '% Change': '0.21', 'Open': '903.20', 'High': '903.00', 'Low': '903.20', 'Qty.': '75', 'PClose': '', 'Diff.': ''}, {'Symbol': 'NESDO', 'LTP': '1,719.00', '% Change': '1.42', 'Open': '1,725.00', 'High': '1,690.00', 'Low': '1,700.00', 'Qty.': '879', 'PClose': '', 'Diff.': ''}, {'Symbol': 'NFS', 'LTP': '384.90', '% Change': '1.1', 'Open': '390.00', 'High': '375.00', 'Low': '377.30', 'Qty.': '42,674', 'PClose': '', 'Diff.': ''}, {'Symbol': 'NGPL', 'LTP': '303.50', '% Change': '-0.16', 'Open': '309.00', 'High': '300.00', 'Low': '303.50', 'Qty.': '59,378', 'PClose': '', 'Diff.': ''}, {'Symbol': 'NHDL', 'LTP': '425.00', '% Change': '0.95', 'Open': '428.00', 'High': '413.40', 'Low': '413.40', 'Qty.': '1,226', 'PClose': '', 'Diff.': ''}, {'Symbol': 'NHPC', 'LTP': '151.70', '% Change': '-0.85', 'Open': '154.00', 'High': '150.10', 'Low': '154.00', 'Qty.': '54,477', 'PClose': '', 'Diff.': ''}, {'Symbol': 'NIBD84', 'LTP': '935.10', '% Change': '0.01', 'Open': '935.10', 'High': '935.10', 'Low': '935.10', 'Qty.': '100', 'PClose': '', 'Diff.': ''}, {'Symbol': 'NIBLGF', 'LTP': '8.00', '% Change': '-3.03', 'Open': '8.11', 'High': '7.95', 'Low': '8.09', 'Qty.': '4,050', 'PClose': '', 'Diff.': ''}, {'Symbol': 'NIBSF2', 'LTP': '7.88', '% Change': '0.77', 'Open': '7.88', 'High': '7.67', 'Low': '7.67', 'Qty.': '22,900', 'PClose': '', 'Diff.': ''}, {'Symbol': 'NICA', 'LTP': '410.00', '% Change': '-0.24', 'Open': '414.00', 'High': '407.00', 'Low': '413.90', 'Qty.': '33,224', 'PClose': '', 'Diff.': ''}, {'Symbol': 'NICAD8283', 'LTP': '1,080.00', '% Change': '0', 'Open': '1,080.00', 'High': '1,080.00', 'Low': '1,080.00', 'Qty.': '200', 'PClose': '', 'Diff.': ''}, {'Symbol': 'NICBF', 'LTP': '8.56', '% Change': '1.9', 'Open': '8.56', 'High': '8.56', 'Low': '8.56', 'Qty.': '10,350', 'PClose': '', 'Diff.': ''}, {'Symbol': 'NICFC', 'LTP': '8.87', '% Change': '-0.56', 'Open': '8.87', 'High': '8.65', 'Low': '8.80', 'Qty.': '3,900', 'PClose': '', 'Diff.': ''}, {'Symbol': 'NICGF', 'LTP': '9.61', '% Change': '0.21', 'Open': '9.79', 'High': '9.60', 'Low': '9.60', 'Qty.': '34,100', 'PClose': '', 'Diff.': ''}, {'Symbol': 'NICGF2', 'LTP': '8.16', '% Change': '0.99', 'Open': '8.16', 'High': '7.92', 'Low': '7.92', 'Qty.': '4,200', 'PClose': '', 'Diff.': ''}, {'Symbol': 'NICL', 'LTP': '837.00', '% Change': '-0.71', 'Open': '845.00', 'High': '827.10', 'Low': '845.00', 'Qty.': '9,677', 'PClose': '', 'Diff.': ''}, {'Symbol': 'NICLBSL', 'LTP': '599.00', '% Change': '-0.33', 'Open': '612.70', 'High': '595.00', 'Low': '612.70', 'Qty.': '8,142', 'PClose': '', 'Diff.': ''}, {'Symbol': 'NICSF', 'LTP': '9.15', '% Change': '1.67', 'Open': '9.15', 'High': '8.80', 'Low': '8.83', 'Qty.': '9,900', 'PClose': '', 'Diff.': ''}, {'Symbol': 'NIFRA', 'LTP': '207.20', '% Change': '0.97', 'Open': '210.00', 'High': '202.00', 'Low': '202.00', 'Qty.': '64,281', 'PClose': '', 'Diff.': ''}, {'Symbol': 'NIL', 'LTP': '817.00', '% Change': '-0.12', 'Open': '825.00', 'High': '815.00', 'Low': '825.00', 'Qty.': '5,070', 'PClose': '', 'Diff.': ''}, {'Symbol': 'NIMB', 'LTP': '159.50', '% Change': '-0.31', 'Open': '160.50', 'High': '158.50', 'Low': '160.00', 'Qty.': '70,667', 'PClose': '', 'Diff.': ''}, {'Symbol': 'NIMBPO', 'LTP': '136.60', '% Change': '-0.65', 'Open': '136.60', 'High': '136.00', 'Low': '136.00', 'Qty.': '1,550', 'PClose': '', 'Diff.': ''}, {'Symbol': 'NLG', 'LTP': '755.00', '% Change': '-0.85', 'Open': '769.00', 'High': '754.20', 'Low': '769.00', 'Qty.': '3,310', 'PClose': '', 'Diff.': ''}, {'Symbol': 'NLIC', 'LTP': '596.00', '% Change': '-0.17', 'Open': '600.00', 'High': '590.00', 'Low': '591.10', 'Qty.': '32,341', 'PClose': '', 'Diff.': ''}, {'Symbol': 'NLICL', 'LTP': '557.00', '% Change': '0.09', 'Open': '562.00', 'High': '555.00', 'Low': '555.10', 'Qty.': '9,017', 'PClose': '', 'Diff.': ''}, {'Symbol': 'NMB', 'LTP': '180.00', '% Change': '-0.17', 'Open': '191.20', 'High': '178.00', 'Low': '179.30', 'Qty.': '24,036', 'PClose': '', 'Diff.': ''}, {'Symbol': 'NMB50', 'LTP': '9.53', '% Change': '1.38', 'Open': '9.53', 'High': '9.53', 'Low': '9.53', 'Qty.': '104', 'PClose': '', 'Diff.': ''}, {'Symbol': 'NMBMF', 'LTP': '581.00', '% Change': '0', 'Open': '581.00', 'High': '570.50', 'Low': '570.50', 'Qty.': '2,624', 'PClose': '', 'Diff.': ''}, {'Symbol': 'NMBPO', 'LTP': '113.00', '% Change': '0', 'Open': '113.00', 'High': '113.00', 'Low': '113.00', 'Qty.': '90,000', 'PClose': '', 'Diff.': ''}, {'Symbol': 'NMFBS', 'LTP': '1,129.00', '% Change': '-0.96', 'Open': '1,161.00', 'High': '1,107.50', 'Low': '1,160.00', 'Qty.': '1,159', 'PClose': '', 'Diff.': ''}, {'Symbol': 'NRIC', 'LTP': '734.00', '% Change': '0.27', 'Open': '734.00', 'High': '721.00', 'Low': '723.30', 'Qty.': '16,883', 'PClose': '', 'Diff.': ''}, {'Symbol': 'NRM', 'LTP': '370.90', '% Change': '-0.32', 'Open': '379.00', 'High': '364.90', 'Low': '364.90', 'Qty.': '33,482', 'PClose': '', 'Diff.': ''}, {'Symbol': 'NRN', 'LTP': '537.90', '% Change': '1.49', 'Open': '540.60', 'High': '526.30', 'Low': '526.30', 'Qty.': '24,653', 'PClose': '', 'Diff.': ''}, {'Symbol': 'NSIF2', 'LTP': '9.57', '% Change': '-0.1', 'Open': '9.57', 'High': '9.39', 'Low': '9.39', 'Qty.': '9,450', 'PClose': '', 'Diff.': ''}, {'Symbol': 'NTC', 'LTP': '847.60', '% Change': '0.31', 'Open': '850.00', 'High': '840.00', 'Low': '849.90', 'Qty.': '15,889', 'PClose': '', 'Diff.': ''}, {'Symbol': 'NUBL', 'LTP': '640.80', '% Change': '-2.02', 'Open': '667.00', 'High': '640.70', 'Low': '667.00', 'Qty.': '4,547', 'PClose': '', 'Diff.': ''}, {'Symbol': 'NWCL', 'LTP': '736.20', '% Change': '-1.56', 'Open': '750.00', 'High': '735.10', 'Low': '737.00', 'Qty.': '9,991', 'PClose': '', 'Diff.': ''}, {'Symbol': 'NYADI', 'LTP': '299.90', '% Change': '0.64', 'Open': '303.00', 'High': '295.00', 'Low': '298.00', 'Qty.': '11,698', 'PClose': '', 'Diff.': ''}, {'Symbol': 'OHL', 'LTP': '769.00', '% Change': '-1.16', 'Open': '778.00', 'High': '758.30', 'Low': '778.00', 'Qty.': '6,849', 'PClose': '', 'Diff.': ''}, {'Symbol': 'PBD85', 'LTP': '903.20', '% Change': '-0.2', 'Open': '903.20', 'High': '903.20', 'Low': '903.20', 'Qty.': '25', 'PClose': '', 'Diff.': ''}, {'Symbol': 'PBD88', 'LTP': '1,002.20', '% Change': '0.22', 'Open': '1,002.20', 'High': '1,002.20', 'Low': '1,002.20', 'Qty.': '25', 'PClose': '', 'Diff.': ''}, {'Symbol': 'PCBL', 'LTP': '192.90', '% Change': '0.78', 'Open': '193.00', 'High': '188.20', 'Low': '188.20', 'Qty.': '30,210', 'PClose': '', 'Diff.': ''}, {'Symbol': 'PFL', 'LTP': '402.00', '% Change': '1.49', 'Open': '408.00', 'High': '388.20', 'Low': '388.20', 'Qty.': '18,602', 'PClose': '', 'Diff.': ''}, {'Symbol': 'PHCL', 'LTP': '324.00', '% Change': '-2.09', 'Open': '344.00', 'High': '323.40', 'Low': '324.30', 'Qty.': '61,269', 'PClose': '', 'Diff.': ''}, {'Symbol': 'PMHPL', 'LTP': '249.90', '% Change': '2.84', 'Open': '250.00', 'High': '238.20', 'Low': '238.30', 'Qty.': '4,952', 'PClose': '', 'Diff.': ''}, {'Symbol': 'PMLI', 'LTP': '517.90', '% Change': '0', 'Open': '528.00', 'High': '510.00', 'Low': '510.10', 'Qty.': '6,909', 'PClose': '', 'Diff.': ''}, {'Symbol': 'PPCL', 'LTP': '253.00', '% Change': '0.04', 'Open': '257.50', 'High': '252.20', 'Low': '257.50', 'Qty.': '9,789', 'PClose': '', 'Diff.': ''}, {'Symbol': 'PPL', 'LTP': '520.00', '% Change': '7.44', 'Open': '521.00', 'High': '480.00', 'Low': '480.00', 'Qty.': '138,400', 'PClose': '', 'Diff.': ''}, {'Symbol': 'PRIN', 'LTP': '765.00', '% Change': '-0.65', 'Open': '775.00', 'High': '755.00', 'Low': '755.00', 'Qty.': '7,310', 'PClose': '', 'Diff.': ''}, {'Symbol': 'PROFL', 'LTP': '316.00', '% Change': '0.32', 'Open': '321.00', 'High': '310.00', 'Low': '321.00', 'Qty.': '10,947', 'PClose': '', 'Diff.': ''}, {'Symbol': 'PRSF', 'LTP': '8.57', '% Change': '0', 'Open': '8.57', 'High': '8.57', 'Low': '8.57', 'Qty.': '200', 'PClose': '', 'Diff.': ''}, {'Symbol': 'PRVU', 'LTP': '141.00', '% Change': '-0.21', 'Open': '142.50', 'High': '140.00', 'Low': '141.00', 'Qty.': '37,985', 'PClose': '', 'Diff.': ''}, {'Symbol': 'PSF', 'LTP': '8.97', '% Change': '1.24', 'Open': '8.97', 'High': '8.80', 'Low': '8.80', 'Qty.': '19,900', 'PClose': '', 'Diff.': ''}, {'Symbol': 'RADHI', 'LTP': '239.00', '% Change': '0', 'Open': '242.10', 'High': '235.40', 'Low': '235.40', 'Qty.': '31,425', 'PClose': '', 'Diff.': ''}, {'Symbol': 'RAWA', 'LTP': '478.00', '% Change': '1.06', 'Open': '479.90', 'High': '464.00', 'Low': '479.90', 'Qty.': '4,805', 'PClose': '', 'Diff.': ''}, {'Symbol': 'RBCL', 'LTP': '13,500.10', '% Change': '-1.05', 'Open': '13,700.00', 'High': '13,500.00', 'Low': '13,700.00', 'Qty.': '475', 'PClose': '', 'Diff.': ''}, {'Symbol': 'RBCLPO', 'LTP': '10,700.00', '% Change': '-0.69', 'Open': '10,700.00', 'High': '10,700.00', 'Low': '10,700.00', 'Qty.': '20', 'PClose': '', 'Diff.': ''}, {'Symbol': 'RFPL', 'LTP': '455.00', '% Change': '7.06', 'Open': '460.00', 'High': '411.60', 'Low': '425.00', 'Qty.': '110,513', 'PClose': '', 'Diff.': ''}, {'Symbol': 'RHGCL', 'LTP': '311.00', '% Change': '5.07', 'Open': '315.00', 'High': '292.00', 'Low': '292.00', 'Qty.': '65,546', 'PClose': '', 'Diff.': ''}, {'Symbol': 'RHPL', 'LTP': '283.00', '% Change': '0.71', 'Open': '292.30', 'High': '276.20', 'Low': '276.20', 'Qty.': '22,372', 'PClose': '', 'Diff.': ''}, {'Symbol': 'RIDI', 'LTP': '184.00', '% Change': '-0.27', 'Open': '185.90', 'High': '182.60', 'Low': '182.80', 'Qty.': '30,842', 'PClose': '', 'Diff.': ''}, {'Symbol': 'RLFL', 'LTP': '366.90', '% Change': '1.07', 'Open': '369.00', 'High': '355.10', 'Low': '356.00', 'Qty.': '17,130', 'PClose': '', 'Diff.': ''}, {'Symbol': 'RMF1', 'LTP': '8.00', '% Change': '2.56', 'Open': '8.00', 'High': '7.65', 'Low': '7.95', 'Qty.': '18,500', 'PClose': '', 'Diff.': ''}, {'Symbol': 'RMF2', 'LTP': '8.55', '% Change': '0.12', 'Open': '8.55', 'High': '8.55', 'Low': '8.55', 'Qty.': '100', 'PClose': '', 'Diff.': ''}, {'Symbol': 'RNLI', 'LTP': '439.00', '% Change': '0.23', 'Open': '443.50', 'High': '431.10', 'Low': '437.50', 'Qty.': '23,561', 'PClose': '', 'Diff.': ''}, {'Symbol': 'RSDC', 'LTP': '581.90', '% Change': '0.45', 'Open': '583.00', 'High': '570.30', 'Low': '580.00', 'Qty.': '7,028', 'PClose': '', 'Diff.': ''}, {'Symbol': 'RURU', 'LTP': '695.00', '% Change': '2.21', 'Open': '697.00', 'High': '674.30', 'Low': '674.30', 'Qty.': '2,424', 'PClose': '', 'Diff.': ''}, {'Symbol': 'SABSL', 'LTP': '695.00', '% Change': '-0.43', 'Open': '699.00', 'High': '673.00', 'Low': '699.00', 'Qty.': '1,861', 'PClose': '', 'Diff.': ''}, {'Symbol': 'SADBL', 'LTP': '298.90', '% Change': '0.61', 'Open': '303.00', 'High': '294.50', 'Low': '297.10', 'Qty.': '21,943', 'PClose': '', 'Diff.': ''}, {'Symbol': 'SAEF', 'LTP': '10.10', '% Change': '1.1', 'Open': '10.18', 'High': '10.00', 'Low': '10.18', 'Qty.': '7,820', 'PClose': '', 'Diff.': ''}, {'Symbol': 'SAGF', 'LTP': '8.82', '% Change': '0.23', 'Open': '8.82', 'High': '8.66', 'Low': '8.66', 'Qty.': '1,100', 'PClose': '', 'Diff.': ''}, {'Symbol': 'SAHAS', 'LTP': '515.00', '% Change': '-0.96', 'Open': '525.00', 'High': '514.00', 'Low': '520.00', 'Qty.': '13,995', 'PClose': '', 'Diff.': ''}, {'Symbol': 'SALICO', 'LTP': '655.10', '% Change': '-1.04', 'Open': '664.60', 'High': '651.60', 'Low': '651.60', 'Qty.': '6,833', 'PClose': '', 'Diff.': ''}, {'Symbol': 'SAMAJ', 'LTP': '2,025.00', '% Change': '1.97', 'Open': '2,025.00', 'High': '1,907.60', 'Low': '1,946.50', 'Qty.': '1,629', 'PClose': '', 'Diff.': ''}, {'Symbol': 'SANIMA', 'LTP': '236.60', '% Change': '0.17', 'Open': '238.00', 'High': '233.10', 'Low': '238.00', 'Qty.': '23,553', 'PClose': '', 'Diff.': ''}, {'Symbol': 'SAPDBL', 'LTP': '301.00', '% Change': '1.69', 'Open': '305.00', 'High': '294.10', 'Low': '300.00', 'Qty.': '45,042', 'PClose': '', 'Diff.': ''}, {'Symbol': 'SARBTM', 'LTP': '1,082.70', '% Change': '9.96', 'Open': '1,083.00', 'High': '1,004.20', 'Low': '1,004.20', 'Qty.': '178,925', 'PClose': '', 'Diff.': ''}, {'Symbol': 'SBCF', 'LTP': '7.95', '% Change': '-0.62', 'Open': '7.95', 'High': '7.54', 'Low': '7.84', 'Qty.': '12,400', 'PClose': '', 'Diff.': ''}, {'Symbol': 'SBI', 'LTP': '281.00', '% Change': '-1.06', 'Open': '289.60', 'High': '280.70', 'Low': '289.60', 'Qty.': '7,226', 'PClose': '', 'Diff.': ''}, {'Symbol': 'SBID83', 'LTP': '1,030.00', '% Change': '0.98', 'Open': '1,030.00', 'High': '1,020.00', 'Low': '1,020.00', 'Qty.': '225', 'PClose': '', 'Diff.': ''}, {'Symbol': 'SBID89', 'LTP': '930.00', '% Change': '0.25', 'Open': '930.00', 'High': '918.10', 'Low': '918.10', 'Qty.': '50', 'PClose': '', 'Diff.': ''}, {'Symbol': 'SBL', 'LTP': '220.00', '% Change': '-0.9', 'Open': '225.80', 'High': '219.00', 'Low': '225.80', 'Qty.': '14,696', 'PClose': '', 'Diff.': ''}, {'Symbol': 'SBLD2082', 'LTP': '1,056.00', '% Change': '2', 'Open': '1,055.00', 'High': '1,055.00', 'Low': '1,055.00', 'Qty.': '15', 'PClose': '', 'Diff.': ''}, {'Symbol': 'SCB', 'LTP': '519.00', '% Change': '-0.57', 'Open': '524.00', 'High': '515.10', 'Low': '515.10', 'Qty.': '16,744', 'PClose': '', 'Diff.': ''}, {'Symbol': 'SDBD87', 'LTP': '919.00', '% Change': '0.99', 'Open': '919.00', 'High': '919.00', 'Low': '919.00', 'Qty.': '25', 'PClose': '', 'Diff.': ''}, {'Symbol': 'SDLBSL', 'LTP': '690.60', '% Change': '-1.33', 'Open': '699.60', 'High': '685.00', 'Low': '686.00', 'Qty.': '2,681', 'PClose': '', 'Diff.': ''}, {'Symbol': 'SEF', 'LTP': '7.78', '% Change': '-0.89', 'Open': '7.86', 'High': '7.56', 'Low': '7.70', 'Qty.': '5,650', 'PClose': '', 'Diff.': ''}, {'Symbol': 'SFCL', 'LTP': '313.70', '% Change': '-0.41', 'Open': '318.90', 'High': '312.30', 'Low': '314.00', 'Qty.': '26,733', 'PClose': '', 'Diff.': ''}, {'Symbol': 'SFEF', 'LTP': '7.82', '% Change': '-2.25', 'Open': '7.84', 'High': '7.70', 'Low': '7.84', 'Qty.': '1,000', 'PClose': '', 'Diff.': ''}, {'Symbol': 'SFMF', 'LTP': '9.81', '% Change': '-0.91', 'Open': '10.00', 'High': '9.81', 'Low': '10.00', 'Qty.': '1,250', 'PClose': '', 'Diff.': ''}, {'Symbol': 'SGHC', 'LTP': '317.00', '% Change': '1.93', 'Open': '320.00', 'High': '306.00', 'Low': '306.00', 'Qty.': '19,624', 'PClose': '', 'Diff.': ''}, {'Symbol': 'SGIC', 'LTP': '520.00', '% Change': '-0.48', 'Open': '528.00', 'High': '520.00', 'Low': '528.00', 'Qty.': '17,227', 'PClose': '', 'Diff.': ''}, {'Symbol': 'SHEL', 'LTP': '195.00', '% Change': '-1.52', 'Open': '200.00', 'High': '195.00', 'Low': '198.00', 'Qty.': '11,227', 'PClose': '', 'Diff.': ''}, {'Symbol': 'SHINE', 'LTP': '371.00', '% Change': '0.82', 'Open': '373.00', 'High': '363.50', 'Low': '363.50', 'Qty.': '19,949', 'PClose': '', 'Diff.': ''}, {'Symbol': 'SHIVM', 'LTP': '539.00', '% Change': '2.67', 'Open': '549.00', 'High': '523.30', 'Low': '535.50', 'Qty.': '287,257', 'PClose': '', 'Diff.': ''}, {'Symbol': 'SHL', 'LTP': '438.00', '% Change': '0', 'Open': '441.90', 'High': '426.00', 'Low': '438.00', 'Qty.': '49,955', 'PClose': '', 'Diff.': ''}, {'Symbol': 'SHLB', 'LTP': '974.00', '% Change': '0.41', 'Open': '974.00', 'High': '950.00', 'Low': '952.60', 'Qty.': '1,501', 'PClose': '', 'Diff.': ''}, {'Symbol': 'SHPC', 'LTP': '338.20', '% Change': '-1.11', 'Open': '343.80', 'High': '337.20', 'Low': '341.00', 'Qty.': '42,069', 'PClose': '', 'Diff.': ''}, {'Symbol': 'SICL', 'LTP': '695.90', '% Change': '-0.39', 'Open': '701.00', 'High': '695.90', 'Low': '701.00', 'Qty.': '11,088', 'PClose': '', 'Diff.': ''}, {'Symbol': 'SIFC', 'LTP': '362.00', '% Change': '-0.55', 'Open': '371.70', 'High': '356.80', 'Low': '356.80', 'Qty.': '10,452', 'PClose': '', 'Diff.': ''}, {'Symbol': 'SIGS2', 'LTP': '8.03', '% Change': '-1.95', 'Open': '8.03', 'High': '8.03', 'Low': '8.03', 'Qty.': '100', 'PClose': '', 'Diff.': ''}, {'Symbol': 'SIGS3', 'LTP': '8.37', '% Change': '0.6', 'Open': '8.50', 'High': '8.37', 'Low': '8.37', 'Qty.': '2,200', 'PClose': '', 'Diff.': ''}, {'Symbol': 'SIKLES', 'LTP': '480.00', '% Change': '1.05', 'Open': '483.90', 'High': '467.00', 'Low': '467.00', 'Qty.': '730', 'PClose': '', 'Diff.': ''}, {'Symbol': 'SINDU', 'LTP': '354.00', '% Change': '-0.28', 'Open': '358.00', 'High': '348.10', 'Low': '348.50', 'Qty.': '17,844', 'PClose': '', 'Diff.': ''}, {'Symbol': 'SJCL', 'LTP': '285.90', '% Change': '-0.07', 'Open': '286.40', 'High': '278.10', 'Low': '281.00', 'Qty.': '4,070', 'PClose': '', 'Diff.': ''}, {'Symbol': 'SJLIC', 'LTP': '495.00', '% Change': '0.2', 'Open': '500.00', 'High': '487.10', 'Low': '494.00', 'Qty.': '24,513', 'PClose': '', 'Diff.': ''}, {'Symbol': 'SKBBL', 'LTP': '835.00', '% Change': '0.82', 'Open': '839.00', 'High': '830.00', 'Low': '838.00', 'Qty.': '6,208', 'PClose': '', 'Diff.': ''}, {'Symbol': 'SLBBL', 'LTP': '653.00', '% Change': '-0.76', 'Open': '661.00', 'High': '652.00', 'Low': '655.00', 'Qty.': '1,644', 'PClose': '', 'Diff.': ''}, {'Symbol': 'SLCF', 'LTP': '7.90', '% Change': '1.54', 'Open': '7.90', 'High': '7.60', 'Low': '7.63', 'Qty.': '4,900', 'PClose': '', 'Diff.': ''}, {'Symbol': 'SMATA', 'LTP': '690.20', '% Change': '-2.06', 'Open': '706.00', 'High': '690.00', 'Low': '690.70', 'Qty.': '3,039', 'PClose': '', 'Diff.': ''}, {'Symbol': 'SMB', 'LTP': '1,223.00', '% Change': '1.75', 'Open': '1,250.50', 'High': '1,178.00', 'Low': '1,226.00', 'Qty.': '155', 'PClose': '', 'Diff.': ''}, {'Symbol': 'SMFBS', 'LTP': '1,122.00', '% Change': '1.91', 'Open': '1,122.00', 'High': '1,061.00', 'Low': '1,080.00', 'Qty.': '1,097', 'PClose': '', 'Diff.': ''}, {'Symbol': 'SMH', 'LTP': '675.60', '% Change': '-0.35', 'Open': '684.00', 'High': '652.30', 'Low': '665.50', 'Qty.': '1,500', 'PClose': '', 'Diff.': ''}, {'Symbol': 'SMHL', 'LTP': '446.00', '% Change': '0.22', 'Open': '453.00', 'High': '438.00', 'Low': '453.00', 'Qty.': '18,415', 'PClose': '', 'Diff.': ''}, {'Symbol': 'SMJC', 'LTP': '375.00', '% Change': '1.93', 'Open': '380.00', 'High': '362.20', 'Low': '362.20', 'Qty.': '44,297', 'PClose': '', 'Diff.': ''}, {'Symbol': 'SNLI', 'LTP': '606.00', '% Change': '0.5', 'Open': '613.90', 'High': '596.00', 'Low': '613.90', 'Qty.': '30,358', 'PClose': '', 'Diff.': ''}, {'Symbol': 'SONA', 'LTP': '493.90', '% Change': '2.9', 'Open': '496.00', 'High': '475.10', 'Low': '480.00', 'Qty.': '229,839', 'PClose': '', 'Diff.': ''}, {'Symbol': 'SPC', 'LTP': '589.00', '% Change': '8.07', 'Open': '589.00', 'High': '530.00', 'Low': '538.00', 'Qty.': '5,249', 'PClose': '', 'Diff.': ''}, {'Symbol': 'SPDL', 'LTP': '245.00', '% Change': '0.45', 'Open': '245.80', 'High': '236.00', 'Low': '240.00', 'Qty.': '36,774', 'PClose': '', 'Diff.': ''}, {'Symbol': 'SPHL', 'LTP': '471.00', '% Change': '1.29', 'Open': '471.00', 'High': '457.00', 'Low': '457.00', 'Qty.': '2,666', 'PClose': '', 'Diff.': ''}, {'Symbol': 'SPIL', 'LTP': '737.00', '% Change': '-0.89', 'Open': '744.00', 'High': '730.00', 'Low': '730.00', 'Qty.': '11,150', 'PClose': '', 'Diff.': ''}, {'Symbol': 'SPL', 'LTP': '670.00', '% Change': '0.45', 'Open': '670.00', 'High': '655.00', 'Low': '655.00', 'Qty.': '1,703', 'PClose': '', 'Diff.': ''}, {'Symbol': 'SRLI', 'LTP': '441.00', '% Change': '-0.38', 'Open': '442.50', 'High': '436.10', 'Low': '441.00', 'Qty.': '7,808', 'PClose': '', 'Diff.': ''}, {'Symbol': 'SSHL', 'LTP': '165.00', '% Change': '0.61', 'Open': '166.00', 'High': '161.20', 'Low': '164.00', 'Qty.': '21,919', 'PClose': '', 'Diff.': ''}, {'Symbol': 'STC', 'LTP': '4,480.00', '% Change': '-0.13', 'Open': '4,575.00', 'High': '4,455.00', 'Low': '4,548.00', 'Qty.': '1,408', 'PClose': '', 'Diff.': ''}, {'Symbol': 'SWBBL', 'LTP': '749.00', '% Change': '0.05', 'Open': '750.00', 'High': '735.20', 'Low': '735.20', 'Qty.': '2,074', 'PClose': '', 'Diff.': ''}, {'Symbol': 'SWMF', 'LTP': '720.10', '% Change': '0.15', 'Open': '725.00', 'High': '716.50', 'Low': '719.00', 'Qty.': '2,231', 'PClose': '', 'Diff.': ''}, {'Symbol': 'SWMFPO', 'LTP': '342.00', '% Change': '0', 'Open': '342.00', 'High': '342.00', 'Low': '342.00', 'Qty.': '1,398', 'PClose': '', 'Diff.': ''}, {'Symbol': 'TAMOR', 'LTP': '384.00', '% Change': '-1.54', 'Open': '388.00', 'High': '380.00', 'Low': '382.60', 'Qty.': '17,103', 'PClose': '', 'Diff.': ''}, {'Symbol': 'TPC', 'LTP': '522.70', '% Change': '0.91', 'Open': '531.00', 'High': '520.00', 'Low': '526.00', 'Qty.': '7,280', 'PClose': '', 'Diff.': ''}, {'Symbol': 'TRH', 'LTP': '795.00', '% Change': '-0.38', 'Open': '846.70', 'High': '782.10', 'Low': '782.10', 'Qty.': '30,196', 'PClose': '', 'Diff.': ''}, {'Symbol': 'TSHL', 'LTP': '544.00', '% Change': '1.12', 'Open': '544.90', 'High': '529.00', 'Low': '531.00', 'Qty.': '10,245', 'PClose': '', 'Diff.': ''}, {'Symbol': 'TVCL', 'LTP': '493.90', '% Change': '-0.2', 'Open': '499.90', 'High': '478.00', 'Low': '486.00', 'Qty.': '9,852', 'PClose': '', 'Diff.': ''}, {'Symbol': 'UAIL', 'LTP': '533.00', '% Change': '0.19', 'Open': '535.00', 'High': '526.00', 'Low': '526.00', 'Qty.': '14,247', 'PClose': '', 'Diff.': ''}, {'Symbol': 'UHEWA', 'LTP': '362.00', '% Change': '1.97', 'Open': '366.00', 'High': '351.50', 'Low': '351.50', 'Qty.': '11,421', 'PClose': '', 'Diff.': ''}, {'Symbol': 'ULBSL', 'LTP': '1,230.00', '% Change': '2.07', 'Open': '1,265.00', 'High': '1,205.00', 'Low': '1,205.00', 'Qty.': '781', 'PClose': '', 'Diff.': ''}, {'Symbol': 'ULHC', 'LTP': '355.00', '% Change': '6.61', 'Open': '365.00', 'High': '327.10', 'Low': '339.00', 'Qty.': '80,838', 'PClose': '', 'Diff.': ''}, {'Symbol': 'UMHL', 'LTP': '248.00', '% Change': '0.45', 'Open': '251.30', 'High': '243.20', 'Low': '244.00', 'Qty.': '33,756', 'PClose': '', 'Diff.': ''}, {'Symbol': 'UMRH', 'LTP': '354.10', '% Change': '0.28', 'Open': '360.00', 'High': '352.00', 'Low': '352.50', 'Qty.': '23,116', 'PClose': '', 'Diff.': ''}, {'Symbol': 'UNHPL', 'LTP': '239.50', '% Change': '-0.13', 'Open': '243.50', 'High': '236.10', 'Low': '239.00', 'Qty.': '30,753', 'PClose': '', 'Diff.': ''}, {'Symbol': 'UNL', 'LTP': '39,800.10', '% Change': '0.76', 'Open': '40,600.00', 'High': '39,800.10', 'Low': '40,200.00', 'Qty.': '115', 'PClose': '', 'Diff.': ''}, {'Symbol': 'UNLB', 'LTP': '1,594.50', '% Change': '4.54', 'Open': '1,599.00', 'High': '1,509.20', 'Low': '1,526.00', 'Qty.': '11,208', 'PClose': '', 'Diff.': ''}, {'Symbol': 'UPCL', 'LTP': '211.90', '% Change': '0.9', 'Open': '214.00', 'High': '207.30', 'Low': '214.00', 'Qty.': '50,915', 'PClose': '', 'Diff.': ''}, {'Symbol': 'UPPER', 'LTP': '175.00', '% Change': '-0.23', 'Open': '176.90', 'High': '174.00', 'Low': '175.00', 'Qty.': '212,852', 'PClose': '', 'Diff.': ''}, {'Symbol': 'USHEC', 'LTP': '370.00', '% Change': '1.93', 'Open': '375.00', 'High': '350.00', 'Low': '355.80', 'Qty.': '13,248', 'PClose': '', 'Diff.': ''}, {'Symbol': 'USHL', 'LTP': '487.00', '% Change': '1.88', 'Open': '497.00', 'High': '472.00', 'Low': '472.00', 'Qty.': '3,805', 'PClose': '', 'Diff.': ''}, {'Symbol': 'USLB', 'LTP': '1,485.00', '% Change': '-10', 'Open': '1,680.00', 'High': '1,485.00', 'Low': '1,680.00', 'Qty.': '16,489', 'PClose': '', 'Diff.': ''}, {'Symbol': 'VLBS', 'LTP': '678.00', '% Change': '1.18', 'Open': '684.90', 'High': '666.00', 'Low': '683.00', 'Qty.': '6,623', 'PClose': '', 'Diff.': ''}, {'Symbol': 'VLUCL', 'LTP': '512.50', '% Change': '-0.49', 'Open': '519.00', 'High': '511.00', 'Low': '512.00', 'Qty.': '12,709', 'PClose': '', 'Diff.': ''}, {'Symbol': 'WNLB', 'LTP': '1,133.00', '% Change': '-1.48', 'Open': '1,265.00', 'High': '1,100.00', 'Low': '1,127.00', 'Qty.': '3,947', 'PClose': '', 'Diff.': ''}]\n"
     ]
    }
   ],
   "source": [
    "# site url\n",
    "url = \"https://merolagani.com/LatestMarket.aspx\"\n",
    "\n",
    "con = requests.get(url)\n",
    "soup = BeautifulSoup(con.text,'html.parser')\n",
    "table = soup.find('table', class_=\"table table-hover live-trading sortable\")\n",
    "headers = [i.text for i in table.find_all('th')]\n",
    "data = [j for j in table.find_all('tr',{\"class\":[\"decrease-row\",\"increase-row\",\"nochange-row\"]})]\n",
    "\n",
    "result = [{headers[index]:cell.text for index,cell in enumerate(row.find_all(\"td\"))} for row in data]\n",
    "print(f'\\n{result}')"
   ]
  },
  {
   "cell_type": "code",
   "execution_count": 22,
   "metadata": {
    "id": "hA_-2y3I1kE1"
   },
   "outputs": [
    {
     "data": {
      "text/html": [
       "<div>\n",
       "<style scoped>\n",
       "    .dataframe tbody tr th:only-of-type {\n",
       "        vertical-align: middle;\n",
       "    }\n",
       "\n",
       "    .dataframe tbody tr th {\n",
       "        vertical-align: top;\n",
       "    }\n",
       "\n",
       "    .dataframe thead th {\n",
       "        text-align: right;\n",
       "    }\n",
       "</style>\n",
       "<table border=\"1\" class=\"dataframe\">\n",
       "  <thead>\n",
       "    <tr style=\"text-align: right;\">\n",
       "      <th></th>\n",
       "      <th>Symbol</th>\n",
       "      <th>LTP</th>\n",
       "      <th>% Change</th>\n",
       "      <th>Open</th>\n",
       "      <th>High</th>\n",
       "      <th>Low</th>\n",
       "      <th>Qty.</th>\n",
       "      <th>PClose</th>\n",
       "      <th>Diff.</th>\n",
       "    </tr>\n",
       "  </thead>\n",
       "  <tbody>\n",
       "    <tr>\n",
       "      <th>0</th>\n",
       "      <td>ACLBSL</td>\n",
       "      <td>721.90</td>\n",
       "      <td>0.26</td>\n",
       "      <td>722.00</td>\n",
       "      <td>703.00</td>\n",
       "      <td>708.10</td>\n",
       "      <td>7,137</td>\n",
       "      <td></td>\n",
       "      <td></td>\n",
       "    </tr>\n",
       "    <tr>\n",
       "      <th>1</th>\n",
       "      <td>ADBL</td>\n",
       "      <td>230.00</td>\n",
       "      <td>-0.04</td>\n",
       "      <td>234.70</td>\n",
       "      <td>228.40</td>\n",
       "      <td>234.70</td>\n",
       "      <td>17,792</td>\n",
       "      <td></td>\n",
       "      <td></td>\n",
       "    </tr>\n",
       "    <tr>\n",
       "      <th>2</th>\n",
       "      <td>ADBLD83</td>\n",
       "      <td>1,035.00</td>\n",
       "      <td>0.49</td>\n",
       "      <td>1,035.00</td>\n",
       "      <td>1,035.00</td>\n",
       "      <td>1,035.00</td>\n",
       "      <td>25</td>\n",
       "      <td></td>\n",
       "      <td></td>\n",
       "    </tr>\n",
       "    <tr>\n",
       "      <th>3</th>\n",
       "      <td>AHL</td>\n",
       "      <td>455.00</td>\n",
       "      <td>-0.02</td>\n",
       "      <td>464.00</td>\n",
       "      <td>444.10</td>\n",
       "      <td>464.00</td>\n",
       "      <td>7,365</td>\n",
       "      <td></td>\n",
       "      <td></td>\n",
       "    </tr>\n",
       "    <tr>\n",
       "      <th>4</th>\n",
       "      <td>AHPC</td>\n",
       "      <td>177.30</td>\n",
       "      <td>0.57</td>\n",
       "      <td>179.00</td>\n",
       "      <td>174.00</td>\n",
       "      <td>179.00</td>\n",
       "      <td>24,520</td>\n",
       "      <td></td>\n",
       "      <td></td>\n",
       "    </tr>\n",
       "    <tr>\n",
       "      <th>...</th>\n",
       "      <td>...</td>\n",
       "      <td>...</td>\n",
       "      <td>...</td>\n",
       "      <td>...</td>\n",
       "      <td>...</td>\n",
       "      <td>...</td>\n",
       "      <td>...</td>\n",
       "      <td>...</td>\n",
       "      <td>...</td>\n",
       "    </tr>\n",
       "    <tr>\n",
       "      <th>308</th>\n",
       "      <td>USHL</td>\n",
       "      <td>487.00</td>\n",
       "      <td>1.88</td>\n",
       "      <td>497.00</td>\n",
       "      <td>472.00</td>\n",
       "      <td>472.00</td>\n",
       "      <td>3,805</td>\n",
       "      <td></td>\n",
       "      <td></td>\n",
       "    </tr>\n",
       "    <tr>\n",
       "      <th>309</th>\n",
       "      <td>USLB</td>\n",
       "      <td>1,485.00</td>\n",
       "      <td>-10</td>\n",
       "      <td>1,680.00</td>\n",
       "      <td>1,485.00</td>\n",
       "      <td>1,680.00</td>\n",
       "      <td>16,489</td>\n",
       "      <td></td>\n",
       "      <td></td>\n",
       "    </tr>\n",
       "    <tr>\n",
       "      <th>310</th>\n",
       "      <td>VLBS</td>\n",
       "      <td>678.00</td>\n",
       "      <td>1.18</td>\n",
       "      <td>684.90</td>\n",
       "      <td>666.00</td>\n",
       "      <td>683.00</td>\n",
       "      <td>6,623</td>\n",
       "      <td></td>\n",
       "      <td></td>\n",
       "    </tr>\n",
       "    <tr>\n",
       "      <th>311</th>\n",
       "      <td>VLUCL</td>\n",
       "      <td>512.50</td>\n",
       "      <td>-0.49</td>\n",
       "      <td>519.00</td>\n",
       "      <td>511.00</td>\n",
       "      <td>512.00</td>\n",
       "      <td>12,709</td>\n",
       "      <td></td>\n",
       "      <td></td>\n",
       "    </tr>\n",
       "    <tr>\n",
       "      <th>312</th>\n",
       "      <td>WNLB</td>\n",
       "      <td>1,133.00</td>\n",
       "      <td>-1.48</td>\n",
       "      <td>1,265.00</td>\n",
       "      <td>1,100.00</td>\n",
       "      <td>1,127.00</td>\n",
       "      <td>3,947</td>\n",
       "      <td></td>\n",
       "      <td></td>\n",
       "    </tr>\n",
       "  </tbody>\n",
       "</table>\n",
       "<p>313 rows × 9 columns</p>\n",
       "</div>"
      ],
      "text/plain": [
       "      Symbol       LTP % Change      Open      High       Low    Qty. PClose  \\\n",
       "0     ACLBSL    721.90     0.26    722.00    703.00    708.10   7,137          \n",
       "1       ADBL    230.00    -0.04    234.70    228.40    234.70  17,792          \n",
       "2    ADBLD83  1,035.00     0.49  1,035.00  1,035.00  1,035.00      25          \n",
       "3        AHL    455.00    -0.02    464.00    444.10    464.00   7,365          \n",
       "4       AHPC    177.30     0.57    179.00    174.00    179.00  24,520          \n",
       "..       ...       ...      ...       ...       ...       ...     ...    ...   \n",
       "308     USHL    487.00     1.88    497.00    472.00    472.00   3,805          \n",
       "309     USLB  1,485.00      -10  1,680.00  1,485.00  1,680.00  16,489          \n",
       "310     VLBS    678.00     1.18    684.90    666.00    683.00   6,623          \n",
       "311    VLUCL    512.50    -0.49    519.00    511.00    512.00  12,709          \n",
       "312     WNLB  1,133.00    -1.48  1,265.00  1,100.00  1,127.00   3,947          \n",
       "\n",
       "    Diff.  \n",
       "0          \n",
       "1          \n",
       "2          \n",
       "3          \n",
       "4          \n",
       "..    ...  \n",
       "308        \n",
       "309        \n",
       "310        \n",
       "311        \n",
       "312        \n",
       "\n",
       "[313 rows x 9 columns]"
      ]
     },
     "execution_count": 22,
     "metadata": {},
     "output_type": "execute_result"
    }
   ],
   "source": [
    "df=pd.DataFrame(result)\n",
    "df"
   ]
  },
  {
   "cell_type": "code",
   "execution_count": null,
   "metadata": {},
   "outputs": [],
   "source": []
  }
 ],
 "metadata": {
  "colab": {
   "provenance": []
  },
  "kernelspec": {
   "display_name": "Python 3 (ipykernel)",
   "language": "python",
   "name": "python3"
  },
  "language_info": {
   "codemirror_mode": {
    "name": "ipython",
    "version": 3
   },
   "file_extension": ".py",
   "mimetype": "text/x-python",
   "name": "python",
   "nbconvert_exporter": "python",
   "pygments_lexer": "ipython3",
   "version": "3.9.13"
  }
 },
 "nbformat": 4,
 "nbformat_minor": 4
}
